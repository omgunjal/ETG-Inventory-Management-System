{
 "cells": [
  {
   "cell_type": "markdown",
   "metadata": {},
   "source": [
    "# Read the Inventory Records"
   ]
  },
  {
   "cell_type": "code",
   "execution_count": 1,
   "metadata": {},
   "outputs": [],
   "source": [
    "import json\n",
    "\n",
    "fp = open(\"records.json\", \"r\")\n",
    "data = fp.read()\n",
    "fp. close()\n",
    "\n",
    "records = json.loads(data) "
   ]
  },
  {
   "cell_type": "code",
   "execution_count": 2,
   "metadata": {},
   "outputs": [
    {
     "data": {
      "text/plain": [
       "51"
      ]
     },
     "execution_count": 2,
     "metadata": {},
     "output_type": "execute_result"
    }
   ],
   "source": [
    "len(records)"
   ]
  },
  {
   "cell_type": "code",
   "execution_count": 3,
   "metadata": {},
   "outputs": [
    {
     "data": {
      "text/plain": [
       "dict"
      ]
     },
     "execution_count": 3,
     "metadata": {},
     "output_type": "execute_result"
    }
   ],
   "source": [
    "type(records)"
   ]
  },
  {
   "cell_type": "code",
   "execution_count": 6,
   "metadata": {},
   "outputs": [
    {
     "data": {
      "text/plain": [
       "{'name': 'fevicol',\n",
       " 'qty': 50,\n",
       " 'price': 5,\n",
       " 'isAvailable': 1,\n",
       " 'Expiry': '20/5/2022'}"
      ]
     },
     "execution_count": 6,
     "metadata": {},
     "output_type": "execute_result"
    }
   ],
   "source": [
    "records['1051']"
   ]
  },
  {
   "cell_type": "markdown",
   "metadata": {},
   "source": [
    "# purchasing the product"
   ]
  },
  {
   "cell_type": "markdown",
   "metadata": {},
   "source": [
    "### Take inputs from user"
   ]
  },
  {
   "cell_type": "code",
   "execution_count": 5,
   "metadata": {},
   "outputs": [
    {
     "name": "stdout",
     "output_type": "stream",
     "text": [
      "Enter the product id:1051\n",
      "Enter the quantity of product bought:1\n",
      "Enter custmer name:omg\n",
      "Enter customer mobile number:1234567890\n"
     ]
    }
   ],
   "source": [
    "pdt_id = input(\"Enter the product id:\")\n",
    "qty = int(input(\"Enter the quantity of product bought:\"))\n",
    "cst_name = input(\"Enter custmer name:\")\n",
    "cst_mob = input(\"Enter customer mobile number:\")"
   ]
  },
  {
   "cell_type": "markdown",
   "metadata": {},
   "source": [
    "### checking availability and generate bill "
   ]
  },
  {
   "cell_type": "code",
   "execution_count": 7,
   "metadata": {},
   "outputs": [
    {
     "name": "stdout",
     "output_type": "stream",
     "text": [
      "*************************************\n",
      " Bill \n",
      "*************************************\n",
      "Customer name: omg\n",
      "Customer mobile no: 1234567890\n",
      "____________________________________\n",
      "Product id: 1051\n",
      "Product name: fevicol\n",
      "quantity: 1\n",
      "price: 5\n",
      "____________________________________\n",
      "Total Amount: 5 \n",
      "\n"
     ]
    }
   ],
   "source": [
    "if pdt_id in records.keys() and records[pdt_id]['isAvailable']==1:\n",
    "    if (qty <= records[pdt_id]['qty']):\n",
    "        # Generate the bill:\n",
    "        print(\"*************************************\\n Bill \\n*************************************\")\n",
    "        print(\"Customer name:\",cst_name)\n",
    "        print(\"Customer mobile no:\", cst_mob)\n",
    "        print(\"____________________________________\")\n",
    "        print(\"Product id:\",pdt_id)\n",
    "        print(\"Product name:\",records[pdt_id]['name'])\n",
    "        print(\"quantity:\",qty)\n",
    "        print(\"price:\",records[pdt_id]['price'])\n",
    "        print(\"____________________________________\")\n",
    "        print(\"Total Amount:\", qty * records[pdt_id]['price'],\"\\n\")\n",
    "        \n",
    "        # update the qty in the records\n",
    "        records[pdt_id]['qty'] -= qty\n",
    "        \n",
    "        if (records[pdt_id]['qty'] == 0):\n",
    "            records[pdt_id]['isAvailable']=0\n",
    "    else:\n",
    "        print(\"The given product is not available in the given quantity\")\n",
    "else:\n",
    "    print(\"Wrong product id or product currently not available\")"
   ]
  },
  {
   "cell_type": "markdown",
   "metadata": {},
   "source": [
    "### update the changes in the records.json file"
   ]
  },
  {
   "cell_type": "code",
   "execution_count": 8,
   "metadata": {},
   "outputs": [],
   "source": [
    "data = json.dumps(records)\n",
    "\n",
    "fp = open(\"records.json\", \"w\")\n",
    "fp.write(data)\n",
    "fp.close()"
   ]
  },
  {
   "cell_type": "markdown",
   "metadata": {},
   "source": [
    "### Creating initial sales.json file"
   ]
  },
  {
   "cell_type": "code",
   "execution_count": 9,
   "metadata": {},
   "outputs": [],
   "source": [
    "initial_sales_count = {'n_sales' : 0}\n",
    "data = json.dumps(initial_sales_count)\n",
    "\n",
    "fp = open(\"sales.json\", 'w')\n",
    "fp.write(data)\n",
    "fp.close()"
   ]
  },
  {
   "cell_type": "markdown",
   "metadata": {},
   "source": [
    "### adding the transaction in the sales.json file"
   ]
  },
  {
   "cell_type": "code",
   "execution_count": 10,
   "metadata": {},
   "outputs": [
    {
     "name": "stdout",
     "output_type": "stream",
     "text": [
      "Mon Sep  6 01:46:01 2021\n"
     ]
    },
    {
     "data": {
      "text/plain": [
       "str"
      ]
     },
     "execution_count": 10,
     "metadata": {},
     "output_type": "execute_result"
    }
   ],
   "source": [
    "# checking current time\n",
    "import time \n",
    "dt = time.ctime()\n",
    "print(dt)\n",
    "type(dt)"
   ]
  },
  {
   "cell_type": "code",
   "execution_count": 13,
   "metadata": {},
   "outputs": [
    {
     "name": "stdout",
     "output_type": "stream",
     "text": [
      "1\n",
      "{'date and time': 'Mon Sep  6 01:49:27 2021', 'product id': '1051', 'name': 'fevicol', 'amount': 5, 'customer name': 'omg', 'customer mobile': '1234567890'}\n"
     ]
    }
   ],
   "source": [
    "# updating the sales\n",
    "sales_fp = open(\"sales.json\", \"r\")\n",
    "data = sales_fp.read()\n",
    "sales_fp.close()\n",
    "\n",
    "sales = json.loads(data)\n",
    "\n",
    "sales['n_sales'] +=1\n",
    "i = sales['n_sales']\n",
    "\n",
    "sale = {'date and time':time.ctime(),\n",
    "        'product id':pdt_id,\n",
    "        'name':records[pdt_id]['name'],\n",
    "        'amount':qty * records[pdt_id]['price'],\n",
    "        'customer name':cst_name,\n",
    "        'customer mobile':cst_mob}\n",
    "sales[i] = sale\n",
    "\n",
    "print(sales['n_sales'])\n",
    "print(sales[i])"
   ]
  },
  {
   "cell_type": "code",
   "execution_count": 14,
   "metadata": {},
   "outputs": [
    {
     "data": {
      "text/plain": [
       "{'n_sales': 1,\n",
       " 1: {'date and time': 'Mon Sep  6 01:49:27 2021',\n",
       "  'product id': '1051',\n",
       "  'name': 'fevicol',\n",
       "  'amount': 5,\n",
       "  'customer name': 'omg',\n",
       "  'customer mobile': '1234567890'}}"
      ]
     },
     "execution_count": 14,
     "metadata": {},
     "output_type": "execute_result"
    }
   ],
   "source": [
    "sales"
   ]
  },
  {
   "cell_type": "code",
   "execution_count": 15,
   "metadata": {},
   "outputs": [],
   "source": [
    "# updating in the sales.json file\n",
    "data = json.dumps(sales)\n",
    "\n",
    "sales_fp = open(\"sales.json\", \"w\")\n",
    "sales_fp.write(data)\n",
    "sales_fp.close()"
   ]
  },
  {
   "cell_type": "markdown",
   "metadata": {},
   "source": [
    "## Creating a function to do this all "
   ]
  },
  {
   "cell_type": "code",
   "execution_count": 16,
   "metadata": {},
   "outputs": [],
   "source": [
    "import json\n",
    "import time\n",
    "\n",
    "def purchase():\n",
    "    # loading the records from records.json file\n",
    "\n",
    "    fp = open(\"records.json\", \"r\")\n",
    "    data = fp.read()\n",
    "    fp. close()\n",
    "\n",
    "    records = json.loads(data)\n",
    "    \n",
    "    # take the inputs from user about transaction\n",
    "    pdt_id = input(\"Enter the product id:\")\n",
    "    qty = int(input(\"Enter the quantity of product bought:\"))\n",
    "    cst_name = input(\"Enter custmer name:\")\n",
    "    cst_mob = input(\"Enter customer mobile number:\")\n",
    "    \n",
    "    # checking availability and generating bill\n",
    "    # also updating records\n",
    "    if pdt_id in records.keys() and records[pdt_id]['isAvailable']==1:\n",
    "        if (qty <= records[pdt_id]['qty']):\n",
    "            # Generate the bill:\n",
    "            print(\"*************************************\\n Bill \\n*************************************\")\n",
    "            print(\"Customer name:\",cst_name)\n",
    "            print(\"Customer mobile no:\", cst_mob)\n",
    "            print(\"____________________________________\")\n",
    "            print(\"Product id:\",pdt_id)\n",
    "            print(\"Product name:\",records[pdt_id]['name'])\n",
    "            print(\"quantity:\",qty)\n",
    "            print(\"price:\",records[pdt_id]['price'])\n",
    "            print(\"____________________________________\")\n",
    "            print(\"Total Amount:\", qty * records[pdt_id]['price'],\"\\n\")\n",
    "\n",
    "            # update the qty in the records\n",
    "            records[pdt_id]['qty'] -= qty\n",
    "\n",
    "            if (records[pdt_id]['qty'] == 0):\n",
    "                records[pdt_id]['isAvailable']=0\n",
    "        else:\n",
    "            print(\"The given product is not available in the given quantity\")\n",
    "    else:\n",
    "        print(\"Wrong product id or product currently not available\")\n",
    "        \n",
    "    #update the changes in records.json file\n",
    "    data = json.dumps(records)\n",
    "\n",
    "    fp = open(\"records.json\", \"w\")\n",
    "    fp.write(data)\n",
    "    fp.close()\n",
    "    \n",
    "    # updating the sales\n",
    "    sales_fp = open(\"sales.json\", \"r\")\n",
    "    data = sales_fp.read()\n",
    "    sales_fp.close()\n",
    "\n",
    "    sales = json.loads(data)\n",
    "\n",
    "    sales['n_sales'] +=1\n",
    "    i = sales['n_sales']\n",
    "\n",
    "    sale = {'date and time':time.ctime(),\n",
    "            'product id':pdt_id,\n",
    "            'name':records[pdt_id]['name'],\n",
    "            'amount':qty * records[pdt_id]['price'],\n",
    "            'customer name':cst_name,\n",
    "            'customer mobile':cst_mob}\n",
    "    sales[i] = sale\n",
    "     \n",
    "    \n",
    "    # updating in the sales.json file\n",
    "    data = json.dumps(sales)\n",
    "\n",
    "    sales_fp = open(\"sales.json\", \"w\")\n",
    "    sales_fp.write(data)\n",
    "    sales_fp.close()\n"
   ]
  },
  {
   "cell_type": "markdown",
   "metadata": {},
   "source": [
    "# main execution"
   ]
  },
  {
   "cell_type": "code",
   "execution_count": 17,
   "metadata": {},
   "outputs": [
    {
     "name": "stdout",
     "output_type": "stream",
     "text": [
      "Enter the product id:1001\n",
      "Enter the quantity of product bought:10\n",
      "Enter custmer name:sai\n",
      "Enter customer mobile number:2345678654\n",
      "*************************************\n",
      " Bill \n",
      "*************************************\n",
      "Customer name: sai\n",
      "Customer mobile no: 2345678654\n",
      "____________________________________\n",
      "Product id: 1001\n",
      "Product name: pen\n",
      "quantity: 10\n",
      "price: 10\n",
      "____________________________________\n",
      "Total Amount: 100 \n",
      "\n"
     ]
    }
   ],
   "source": [
    "purchase()"
   ]
  },
  {
   "cell_type": "code",
   "execution_count": null,
   "metadata": {},
   "outputs": [],
   "source": []
  }
 ],
 "metadata": {
  "kernelspec": {
   "display_name": "Python 3",
   "language": "python",
   "name": "python3"
  },
  "language_info": {
   "codemirror_mode": {
    "name": "ipython",
    "version": 3
   },
   "file_extension": ".py",
   "mimetype": "text/x-python",
   "name": "python",
   "nbconvert_exporter": "python",
   "pygments_lexer": "ipython3",
   "version": "3.7.6"
  }
 },
 "nbformat": 4,
 "nbformat_minor": 4
}
